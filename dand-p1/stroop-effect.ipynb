{
 "cells": [
  {
   "cell_type": "markdown",
   "metadata": {},
   "source": [
    "# Udacity DAND Project 1 - Stroop Effect\n",
    "\n",
    "## Background information (provided by Udacity)\n",
    "\n",
    "In a Stroop task, participants are presented with a list of words, with each word displayed in a color of ink. The participant’s task is to say out loud the color of the ink in which the word is printed. The task has two conditions: a congruent words condition, and an incongruent words condition. In the congruent words condition, the words being displayed are color words whose names match the colors in which they are printed: for example <span style='color: red' >RED</span>, <span style='color: blue'>BLUE</span>. In the incongruent words condition, the words displayed are color words whose names do not match the colors in which they are printed: for example <span style='color:green'>PURPLE</span>, <span style='color: purple'>ORANGE</span>. In each case, we measure the time it takes to name the ink colors in equally-sized lists. Each participant will go through and record a time from each condition.\n",
    "\n"
   ]
  },
  {
   "cell_type": "markdown",
   "metadata": {},
   "source": [
    "## Questions for investigation"
   ]
  },
  {
   "cell_type": "markdown",
   "metadata": {},
   "source": [
    "### What is our independent variable? What is our dependent variable?\n",
    "\n",
    "- independent variables are the congruent or incongruent test conditions.\n",
    "- times recorded for tests taken are the dependent variables."
   ]
  },
  {
   "cell_type": "markdown",
   "metadata": {},
   "source": [
    "### What is an appropriate set of hypotheses for this task? What kind of statistical test do you expect to perform? Justify your choices.\n",
    "\n",
    "We expect that the incongruent words condition make the test more difficult to complete, therefore we would expect that the time required to complete the task will be longer.\n",
    "\n",
    "* Null hypotesis: the average time required to complete the tests will be equal or the incongruent words condition will have shorter average completion time.\n",
    "\n",
    "    H<sub>0</sub>: μ<sub>c</sub> ≥ μ<sub>i</sub>\n",
    "\n",
    "\n",
    "\n",
    "* Alternative hypothesis: Test with congruent words condition will be completed faster than test with incongruent words condition.\n",
    "\n",
    "    H<sub>A</sub>: μ<sub>c</sub> < μ<sub>i</sub>\n",
    "\n",
    "\n",
    "\n",
    "Since we have two samples and we do not know population parameters, we are going to use t-test. This experiment has a within-subject design, where two conditions (congruent words/incontruent words) are tested on the same group of participants and the effects (time to complete test) are measured. Our alternative hypothesis assumes increase of the dependent variable (time). Therefore, we are going to performed one-tailed, dependent t-test for paired samples.\n",
    "\n",
    "For the dependent t-test the following assumptions<sup><a href=\"https://statistics.laerd.com/spss-tutorials/dependent-t-test-using-spss-statistics.php\">1</a></sup> are made:\n",
    "\n",
    "* dependent variable is measured on a continuous scale (time)\n",
    "* independent variable consists of two categorical, \"related groups\" or \"matched pairs\" (congruent and incongruent words groups)\n",
    "* no significant outliers in the differences between the two related groups\n",
    "* The distribution of the differences in the dependent variable between the two related groups should be approximately normally distributed. "
   ]
  },
  {
   "cell_type": "markdown",
   "metadata": {},
   "source": [
    "### Report some descriptive statistics regarding this dataset. Include at least one measure of central tendency and at least one measure of variability.\n",
    "\n",
    "<table>\n",
    "    <tbody>\n",
    "        <tr>\n",
    "            <td></td>\n",
    "            <td>n</td>\n",
    "            <td>μ</td>\n",
    "            <td>M</td>\n",
    "            <td>s<sup>2</sup></td>\n",
    "            <td>s</td>\n",
    "            <td>SEM</td>\n",
    "       </tr>\n",
    "       <tr>\n",
    "            <td>Congruent</td>\n",
    "            <td>24</td>\n",
    "            <td>14.05</td>\n",
    "            <td>14.36</td>\n",
    "            <td>12.67</td>\n",
    "            <td>3.56</td>\n",
    "            <td>0.73</td>\n",
    "       </tr>\n",
    "        <tr>\n",
    "            <td>Incongruent</td>\n",
    "            <td>24</td>\n",
    "            <td>22.02</td>\n",
    "            <td>21.02</td>\n",
    "            <td>23.01</td>\n",
    "            <td>4.80</td>\n",
    "            <td>0.98</td>\n",
    "       </tr>\n",
    "        <tr>\n",
    "            <td>Difference<br>(C-I)</td>\n",
    "            <td>24</td>\n",
    "            <td>-7.96</td>\n",
    "            <td>-7.67</td>\n",
    "            <td>23.67</td>\n",
    "            <td>4.86</td>\n",
    "            <td>0.99</td>\n",
    "       </tr> \n",
    "    </tbody>\n",
    "</table>"
   ]
  },
  {
   "cell_type": "markdown",
   "metadata": {},
   "source": [
    "### Provide one or two visualizations that show the distribution of the sample data. Write one or two sentences noting what you observe about the plot or plots.\n",
    "\n",
    "Bucket size on the charts below is set at **3 s**.\n",
    "\n",
    "<img src=\"samples.png\">\n",
    "\n",
    "\n",
    "Times of the incongruent sample are noticeably shifted towards the higher values with only small overlap with the congruent sample. There is a larger variance in incongruent sample, which results in wider and more flat distribution of the results on the chart, in comparison with congruent sample.\n",
    "\n",
    "<img src=\"difference.png\">\n",
    "\n",
    "One of the assumptions for this t-test is that distribution of the differences in dependent variable should resemble normal distribution. With small sample size (24) it is difficult to tell if this condition is met, especially considering wide range of time differences, from -1.95s to -21.92s (values calculated from source data)."
   ]
  },
  {
   "cell_type": "markdown",
   "metadata": {},
   "source": [
    "### Now, perform the statistical test and report your results. What is your confidence level and your critical statistic value? Do you reject the null hypothesis or fail to reject it? Come to a conclusion in terms of the experiment task. Did the results match up with your expectations?\n",
    "\n",
    "<table>\n",
    "    <tbody>\n",
    "        <tr>\n",
    "            <td>CI</td>\n",
    "            <td>α</td>\n",
    "            <td>df</td>\n",
    "            <td>t critical</td>\n",
    "            <td>t</td>\n",
    "            <td>p value</td>\n",
    "       </tr>\n",
    "       <tr>\n",
    "            <td>98%</td>\n",
    "            <td>0.02</td>\n",
    "            <td>23</td>\n",
    "            <td>-2.18</td>\n",
    "            <td>-8.02</td>\n",
    "            <td>&lt; .02</td>\n",
    "\n",
    "       </tr>\n",
    "    </tbody>\n",
    "</table>\n",
    "\n",
    "\n",
    "Calculated t-statistic for the difference in times between congruent and incongruent samples is -8.02. With the 98% confidence level of 98%, the t-statistic is in the critical region set at the t = -2.18, therefore we can reject the null hypothesis. The result is statistically significant with p < .02. The average time increase in incongruent conditions of 7.96s is unlikely due to a chance and may be related to the experiment conditions.\n",
    "\n"
   ]
  },
  {
   "cell_type": "markdown",
   "metadata": {},
   "source": [
    "\n",
    "### Optional: What do you think is responsible for the effects observed? Can you think of an alternative or similar task that would result in a similar effect? Some research about the problem will be helpful for thinking about these two questions!\n",
    "\n",
    "One possible explnation of the observed effect is that brain is prioritizing certain information processing pathways, and if the stimulus triggers two pathways the stronger pathway may interfere with the weaker one<sup>2</sup>. In this case reading may be stronger pathway than color naming and when both pathways are activated simultaneously, interference occurs when the response pathway is the weaker one.\n",
    "\n",
    "\n",
    "\n",
    "Sources:\n",
    "\n",
    "<sup>1</sup> [https://statistics.laerd.com/spss-tutorials/dependent-t-test-using-spss-statistics.php](https://statistics.laerd.com/spss-tutorials/dependent-t-test-using-spss-statistics.php)\n",
    "\n",
    "<sup>2</sup> Cohen, J.D. On The Control Of Automatic Processes: A Parallel Distributed Processing Account Of The Stroop Effect\". *Psychological Review* 1990; 197(3): 332–361. [doi:10.1037/0033-295x.97.3.332](https://doi.org/10.1037%2F0033-295x.97.3.332).\n"
   ]
  }
 ],
 "metadata": {
  "kernelspec": {
   "display_name": "Python 3",
   "language": "python",
   "name": "python3"
  },
  "language_info": {
   "codemirror_mode": {
    "name": "ipython",
    "version": 3
   },
   "file_extension": ".py",
   "mimetype": "text/x-python",
   "name": "python",
   "nbconvert_exporter": "python",
   "pygments_lexer": "ipython3",
   "version": "3.6.0"
  }
 },
 "nbformat": 4,
 "nbformat_minor": 2
}
